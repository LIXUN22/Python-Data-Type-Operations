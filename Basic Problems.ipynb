{
 "cells": [
  {
   "cell_type": "code",
   "execution_count": 9,
   "id": "83334866-feea-429b-9618-28e0c67eb973",
   "metadata": {},
   "outputs": [
    {
     "name": "stdout",
     "output_type": "stream",
     "text": [
      "5\n",
      "2\n",
      "2\n",
      "5\n"
     ]
    }
   ],
   "source": [
    "# write a program to swap 2 variables with and without using a 3rd variable\n",
    "a = 2\n",
    "b = 5\n",
    "\n",
    "#  without 3rd variable\n",
    "a,b = b,a\n",
    "print(a)\n",
    "print(b)\n",
    "\n",
    "#  using 3rd variable\n",
    "c = a\n",
    "a = b\n",
    "b = c\n",
    "print(a)\n",
    "print(b)"
   ]
  },
  {
   "cell_type": "code",
   "execution_count": null,
   "id": "cea6ad8e-bf55-475b-b3e7-ed6d57b9acd6",
   "metadata": {},
   "outputs": [],
   "source": []
  }
 ],
 "metadata": {
  "kernelspec": {
   "display_name": "Python 3 (ipykernel)",
   "language": "python",
   "name": "python3"
  },
  "language_info": {
   "codemirror_mode": {
    "name": "ipython",
    "version": 3
   },
   "file_extension": ".py",
   "mimetype": "text/x-python",
   "name": "python",
   "nbconvert_exporter": "python",
   "pygments_lexer": "ipython3",
   "version": "3.12.4"
  }
 },
 "nbformat": 4,
 "nbformat_minor": 5
}
