{
 "cells": [
  {
   "cell_type": "code",
   "execution_count": 71,
   "id": "b8e9b0ca-3752-4591-9270-6f5cac9e2d5d",
   "metadata": {},
   "outputs": [
    {
     "name": "stdout",
     "output_type": "stream",
     "text": [
      "python is easy\n",
      "p\n",
      "python is easy\n",
      "python is easy\n"
     ]
    }
   ],
   "source": [
    "#String Slicing\n",
    "x = \"python is easy\"\n",
    "print(x)\n",
    "print(x[0]) \n",
    "print(x +'\\n' + x) "
   ]
  },
  {
   "cell_type": "code",
   "execution_count": 69,
   "id": "61512df4-6383-44f7-8826-e096726c9b28",
   "metadata": {},
   "outputs": [
    {
     "name": "stdout",
     "output_type": "stream",
     "text": [
      "(2, 3, 4)\n",
      "(2, 3, 4, 'a', 'b', 'c', 'd', 'e')\n"
     ]
    }
   ],
   "source": [
    "#tuple Slicing\n",
    "t1=(1,2,3,4)\n",
    "t2=(\"a\",\"b\",\"c\",\"d\",\"e\")\n",
    "t3=t1[1:]\n",
    "print(t3)\n",
    "print(t3+t2)"
   ]
  },
  {
   "cell_type": "code",
   "execution_count": 59,
   "id": "00a41890-f6ea-433e-903b-0da66491adb8",
   "metadata": {},
   "outputs": [
    {
     "name": "stdout",
     "output_type": "stream",
     "text": [
      "[2, 3, 4]\n",
      "[2, 3, 4, 'a', 'b', 'c', 'd', 'e']\n"
     ]
    }
   ],
   "source": [
    "#list slicing\n",
    "list1=[1,2,3,4]\n",
    "list2=[\"a\",\"b\",\"c\",\"d\",\"e\"]\n",
    "list1=list1[1:]\n",
    "print(list1)\n",
    "print(list1+list2)"
   ]
  },
  {
   "cell_type": "code",
   "execution_count": 79,
   "id": "59b7c51a-4cee-4568-af37-70a4f5fbe27c",
   "metadata": {},
   "outputs": [
    {
     "name": "stdout",
     "output_type": "stream",
     "text": [
      "{'Name': 'Mohnish Singh', 'Roll Number': '47'}\n",
      "Mohnish Singh\n",
      "Raju\n"
     ]
    }
   ],
   "source": [
    "#Dict slicing \n",
    "Dict = {'Name' : 'Mohnish Singh' , 'Roll Number' : '47' } \n",
    "print(Dict)\n",
    "print(Dict['Name'])\n",
    "Dict['Name'] = 'Raju'\n",
    "print(Dict['Name'])"
   ]
  },
  {
   "cell_type": "code",
   "execution_count": 91,
   "id": "f0d268af-45b5-40d0-afcf-821b1ce78262",
   "metadata": {},
   "outputs": [
    {
     "name": "stdout",
     "output_type": "stream",
     "text": [
      "3.69\n",
      "4\n",
      "3\n"
     ]
    }
   ],
   "source": [
    "#Type Conversion\n",
    "y = 3.69\n",
    "print(y)\n",
    "print(round(y))\n",
    "print(int(y))"
   ]
  },
  {
   "cell_type": "code",
   "execution_count": 103,
   "id": "477142cb-3c96-4672-9aed-a377190b5518",
   "metadata": {},
   "outputs": [
    {
     "name": "stdin",
     "output_type": "stream",
     "text": [
      "Please Enter First Number : 3\n",
      "Please Enter Second Number : 4\n",
      "Please Enter Third Number : 5\n"
     ]
    },
    {
     "name": "stdout",
     "output_type": "stream",
     "text": [
      "The area of the triangle is : 6.0\n"
     ]
    }
   ],
   "source": [
    "#area of triange\n",
    "a = float(input('Please Enter First Number :'))\n",
    "b = float(input('Please Enter Second Number :'))\n",
    "c = float(input('Please Enter Third Number :'))\n",
    "s = (a+b+c)/2\n",
    "area = str((s*(s-a)*(s-b)*(s-c))**(1/2))\n",
    "print(\"The area of the triangle is : \" + area)"
   ]
  },
  {
   "cell_type": "code",
   "execution_count": 117,
   "id": "4cb6fc3b-3b1f-493f-b6b1-43067c54b3f7",
   "metadata": {},
   "outputs": [
    {
     "name": "stdin",
     "output_type": "stream",
     "text": [
      "X Coordinate of Point 1 2\n",
      "Y Coordinate of Point 1 2\n",
      "X Coordinate of Point 2 5\n",
      "Y Coordinate of Point 2 7\n"
     ]
    },
    {
     "name": "stdout",
     "output_type": "stream",
     "text": [
      "Distance Between the Given Points are : 5.83\n"
     ]
    }
   ],
   "source": [
    "#Distance Calculator of two points\n",
    "x1 = float(input(\"X Coordinate of Point 1\")) \n",
    "y1 = float(input(\"Y Coordinate of Point 1\"))\n",
    "x2 = float(input(\"X Coordinate of Point 2\"))\n",
    "y2 = float(input(\"Y Coordinate of Point 2\"))\n",
    "\n",
    "Distance = ((x2-x1)**2 + (y2-y1)**2)**(1/2)\n",
    "Distance = round(Distance , 2) \n",
    "print(\"Distance Between the Given Points are :\" , Distance)\n"
   ]
  },
  {
   "cell_type": "markdown",
   "id": "cbe4338a-8aec-4bef-a694-610c6f7e21d4",
   "metadata": {},
   "source": [
    "###### area of Circle\n",
    "r = float(input('Please Enter Radius of Circle :'))\n",
    "area = 3.14*r*r\n",
    "print(\"The area of the Circle is : \", area)"
   ]
  },
  {
   "cell_type": "code",
   "execution_count": 137,
   "id": "dd2267d3-f0b5-4217-b3e2-3dbc54819d93",
   "metadata": {},
   "outputs": [
    {
     "name": "stdin",
     "output_type": "stream",
     "text": [
      "Please Enter a number : 54.5454\n"
     ]
    },
    {
     "name": "stdout",
     "output_type": "stream",
     "text": [
      "digit on one's place is  4\n"
     ]
    }
   ],
   "source": [
    "#To print the digit on one's place\n",
    "x = float(input('Please Enter a number :'))\n",
    "x = x % 10\n",
    "print(\"digit on one's place is \",int(x) )"
   ]
  }
 ],
 "metadata": {
  "kernelspec": {
   "display_name": "Python 3 (ipykernel)",
   "language": "python",
   "name": "python3"
  },
  "language_info": {
   "codemirror_mode": {
    "name": "ipython",
    "version": 3
   },
   "file_extension": ".py",
   "mimetype": "text/x-python",
   "name": "python",
   "nbconvert_exporter": "python",
   "pygments_lexer": "ipython3",
   "version": "3.12.4"
  }
 },
 "nbformat": 4,
 "nbformat_minor": 5
}
